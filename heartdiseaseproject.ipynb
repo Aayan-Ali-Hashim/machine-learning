{
 "cells": [
  {
   "cell_type": "code",
   "execution_count": null,
   "metadata": {},
   "outputs": [],
   "source": [
    "#IMPORTING LIBRARIES\n",
    "import pandas as pd\n",
    "import numpy as np\n",
    "from sklearn.model_selection import train_test_split\n",
    "from sklearn.linear_model import LogisticRegression\n",
    "from sklearn.metrics import accuracy_score"
   ]
  },
  {
   "cell_type": "code",
   "execution_count": null,
   "metadata": {},
   "outputs": [],
   "source": [
    "# LOADING DATA \n",
    "df = pd.read_csv(\"heart_disease_data.csv\")"
   ]
  },
  {
   "cell_type": "code",
   "execution_count": null,
   "metadata": {},
   "outputs": [],
   "source": [
    "# PRINTING FIRST 5 ROWS OF DATSET\n",
    "df.head()"
   ]
  },
  {
   "cell_type": "code",
   "execution_count": null,
   "metadata": {},
   "outputs": [],
   "source": [
    "# PRINTING LAST 5 ROWS OF DATASET\n",
    "df.tail()"
   ]
  },
  {
   "cell_type": "code",
   "execution_count": null,
   "metadata": {},
   "outputs": [],
   "source": [
    "# SIZE OF DATASET\n",
    "df.shape"
   ]
  },
  {
   "cell_type": "code",
   "execution_count": null,
   "metadata": {},
   "outputs": [],
   "source": [
    "#GETTING SOME INFORMATION OF DATASET\n",
    "df.info()"
   ]
  },
  {
   "cell_type": "code",
   "execution_count": null,
   "metadata": {},
   "outputs": [],
   "source": [
    "# FINDING MISSING VALUES IN DATASET\n",
    "df.isnull().sum()\n"
   ]
  },
  {
   "cell_type": "code",
   "execution_count": null,
   "metadata": {},
   "outputs": [],
   "source": [
    "# GETTING STATISTICAL MEASURES ABOUT THE DATA\n",
    "df.describe()"
   ]
  },
  {
   "cell_type": "code",
   "execution_count": null,
   "metadata": {},
   "outputs": [],
   "source": [
    "# COUNTING NUMBER OF 1 AND 0s IN TARGET COLUMN\n",
    "df['target'].value_counts()"
   ]
  },
  {
   "cell_type": "markdown",
   "metadata": {},
   "source": [
    "##### 1 - DETECTIVE HEART #####\n",
    "##### 0 - HEALTHY HEART #####"
   ]
  },
  {
   "cell_type": "code",
   "execution_count": null,
   "metadata": {},
   "outputs": [],
   "source": [
    "# SPLITTING THE FEATURES AND TARGET\n",
    "X = df.drop(columns= 'target', axis = 1)\n",
    "y = df['target']\n"
   ]
  },
  {
   "cell_type": "code",
   "execution_count": null,
   "metadata": {},
   "outputs": [],
   "source": [
    "print(X)"
   ]
  },
  {
   "cell_type": "code",
   "execution_count": null,
   "metadata": {},
   "outputs": [],
   "source": [
    "print(y)"
   ]
  },
  {
   "cell_type": "code",
   "execution_count": null,
   "metadata": {},
   "outputs": [],
   "source": [
    "# SPLITTING THE DATA INTO TRAIN TEST\n",
    "X_train,X_test,y_train,y_test = train_test_split(X, y ,test_size = 0.2 , stratify = y , random_state=100)\n",
    "print(X_train.shape , X_test.shape , y_train.shape , y_test.shape)\n",
    "\n"
   ]
  },
  {
   "cell_type": "code",
   "execution_count": null,
   "metadata": {},
   "outputs": [],
   "source": [
    "# TRAINING THE MODEL\n",
    "model = LogisticRegression()\n",
    "model.fit(X_train,y_train)"
   ]
  },
  {
   "cell_type": "code",
   "execution_count": null,
   "metadata": {},
   "outputs": [],
   "source": [
    "# CHECKING MODEL ACCURACY\n",
    "X_pred = model.predict(X_test)\n",
    "accuracy_score(X_pred,y_test)"
   ]
  },
  {
   "cell_type": "code",
   "execution_count": null,
   "metadata": {},
   "outputs": [],
   "source": [
    "# WRITING PREDICTING CODE\n",
    "age = input(\"Enter age\")\n",
    "sex = input(\"Enter gender\")\n",
    "cp = input('Enter cp')\n",
    "trest_bps = input('Enter trest bps')\n",
    "chol = input('Enter your cholestrol')\n",
    "fbs = input('Enter fbs')\n",
    "restecg = input('Enter restecg')\n",
    "thalach = input('Enter thalach')\n",
    "exang = input('Enter exang')\n",
    "oldpeak = input('Enter oldpeak')\n",
    "slope = input('Enter slope')\n",
    "ca = input('Enter ca')\n",
    "thal = input('Enter thal')\n",
    "input_data = (age,sex,cp,trest_bps,chol,fbs,restecg,thalach,exang,oldpeak,slope,ca,thal)\n",
    "# CHANGING TUPLE TO NUMPY ARRAY\n",
    "data_to_array = np.asarray(input_data)\n",
    "input_data_reshape = data_to_array.reshape(1,-1)\n",
    "prediction = model.predict(input_data_reshape)\n",
    "print(prediction)\n",
    "if (prediction[0] == 0) :\n",
    "    print(\"You have Heart disease\")\n",
    "else:\n",
    "    print(\"Do not have Heart disease\")"
   ]
  },
  {
   "cell_type": "code",
   "execution_count": null,
   "metadata": {},
   "outputs": [],
   "source": []
  }
 ],
 "metadata": {
  "kernelspec": {
   "display_name": "Python 3.10.8 64-bit",
   "language": "python",
   "name": "python3"
  },
  "language_info": {
   "codemirror_mode": {
    "name": "ipython",
    "version": 3
   },
   "file_extension": ".py",
   "mimetype": "text/x-python",
   "name": "python",
   "nbconvert_exporter": "python",
   "pygments_lexer": "ipython3",
   "version": "3.10.8"
  },
  "orig_nbformat": 4,
  "vscode": {
   "interpreter": {
    "hash": "68311f26d97c3b93b68c1462b5eab79242568d4032da1a9a25b48693772e00a7"
   }
  }
 },
 "nbformat": 4,
 "nbformat_minor": 2
}
